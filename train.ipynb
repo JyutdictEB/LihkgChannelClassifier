{
 "cells": [
  {
   "cell_type": "code",
   "execution_count": 1,
   "metadata": {},
   "outputs": [
    {
     "name": "stderr",
     "output_type": "stream",
     "text": [
      "c:\\Users\\liang\\anaconda3\\envs\\pytorch\\lib\\site-packages\\tqdm\\auto.py:22: TqdmWarning: IProgress not found. Please update jupyter and ipywidgets. See https://ipywidgets.readthedocs.io/en/stable/user_install.html\n",
      "  from .autonotebook import tqdm as notebook_tqdm\n"
     ]
    }
   ],
   "source": [
    "from transformers import BertTokenizerFast\n",
    "import numpy as np\n",
    "import torch\n",
    "learning_rate = 5e-5\n",
    "batch_size = 80\n",
    "n_epochs = 10\n",
    "\n",
    "tokenizer = BertTokenizerFast.from_pretrained('../bert-base-chinese')\n",
    "device = torch.device(\"cuda\") if torch.cuda.is_available() else torch.device('cpu')\n"
   ]
  },
  {
   "cell_type": "code",
   "execution_count": 2,
   "metadata": {},
   "outputs": [],
   "source": [
    "from collections import namedtuple\n",
    "def text2token(txt):\n",
    "  d = tokenizer(txt,padding=\"max_length\", truncation=True,return_tensors='pt',max_length=64)\n",
    "  d.update((k,v[0]) for k,v in d.items())\n",
    "  return d\n",
    "LabeledData = namedtuple(\"LabeledData\",['token','label'])"
   ]
  },
  {
   "cell_type": "code",
   "execution_count": 3,
   "metadata": {},
   "outputs": [],
   "source": [
    "import label_loader\n",
    "\n",
    "def load_raw_to_data(path : str,label_path:str = 'labels.tsv',sep='\\t'):\n",
    "  ret = []\n",
    "  label_idx = label_loader.load_label_index(label_path)\n",
    "  with open(path,encoding='utf-8') as f:\n",
    "    for l in f:\n",
    "      grp = str(l).strip().split(sep)\n",
    "      ret.append(LabeledData(text2token(grp[1]),label_idx.get(grp[0],-1)))\n",
    "  return ret\n",
    "t_lihkg = load_raw_to_data('out_with_labels.tsv')\n",
    "label_idx = label_loader.load_label_index('labels.tsv')"
   ]
  },
  {
   "cell_type": "code",
   "execution_count": 4,
   "metadata": {},
   "outputs": [],
   "source": [
    "from torch.utils.data import DataLoader\n",
    "import torch\n",
    "train_dataloader = DataLoader([*t_lihkg], shuffle=True, batch_size=batch_size)\n",
    "#eval_dataloader = DataLoader([*t_lihkg[:1000]], batch_size=batch_size)"
   ]
  },
  {
   "cell_type": "code",
   "execution_count": 5,
   "metadata": {},
   "outputs": [
    {
     "name": "stderr",
     "output_type": "stream",
     "text": [
      "Some weights of the model checkpoint at ../bert-base-chinese were not used when initializing BertForSequenceClassification: ['cls.predictions.bias', 'cls.predictions.decoder.weight', 'cls.predictions.transform.dense.bias', 'cls.predictions.decoder.bias', 'cls.predictions.transform.LayerNorm.bias', 'cls.predictions.transform.dense.weight', 'cls.predictions.transform.LayerNorm.weight']\n",
      "- This IS expected if you are initializing BertForSequenceClassification from the checkpoint of a model trained on another task or with another architecture (e.g. initializing a BertForSequenceClassification model from a BertForPreTraining model).\n",
      "- This IS NOT expected if you are initializing BertForSequenceClassification from the checkpoint of a model that you expect to be exactly identical (initializing a BertForSequenceClassification model from a BertForSequenceClassification model).\n",
      "Some weights of BertForSequenceClassification were not initialized from the model checkpoint at ../bert-base-chinese and are newly initialized: ['bert.pooler.dense.weight', 'classifier.weight', 'bert.pooler.dense.bias', 'classifier.bias']\n",
      "You should probably TRAIN this model on a down-stream task to be able to use it for predictions and inference.\n"
     ]
    }
   ],
   "source": [
    "from transformers import AutoModelForSequenceClassification\n",
    "\n",
    "model = AutoModelForSequenceClassification.from_pretrained(\"../bert-base-chinese\", num_labels=len(label_idx))\n",
    "model.to(device)\n",
    "pass"
   ]
  },
  {
   "cell_type": "code",
   "execution_count": 6,
   "metadata": {},
   "outputs": [],
   "source": [
    "from torch import nn\n",
    "from torch.optim import AdamW\n",
    "from transformers import get_scheduler\n",
    "import torch\n",
    "\n",
    "optimizer = AdamW(model.parameters(), lr=learning_rate)\n",
    "\n",
    "num_training_steps = n_epochs * len(train_dataloader)\n",
    "lr_scheduler = get_scheduler(\n",
    "    name=\"linear\", optimizer=optimizer, num_warmup_steps=0, num_training_steps=num_training_steps\n",
    ")\n"
   ]
  },
  {
   "cell_type": "code",
   "execution_count": 7,
   "metadata": {},
   "outputs": [
    {
     "name": "stderr",
     "output_type": "stream",
     "text": [
      "Epoch 0: 100%|██████████| 2334/2334 [49:25<00:00,  1.27s/it, loss=1.2]  \n",
      "Epoch 1: 100%|██████████| 2334/2334 [49:22<00:00,  1.27s/it, loss=1.09] \n",
      "Epoch 2: 100%|██████████| 2334/2334 [49:05<00:00,  1.26s/it, loss=1.13] \n",
      "Epoch 3: 100%|██████████| 2334/2334 [49:19<00:00,  1.27s/it, loss=0.78] \n",
      "Epoch 4: 100%|██████████| 2334/2334 [50:15<00:00,  1.29s/it, loss=0.649]\n",
      "Epoch 5: 100%|██████████| 2334/2334 [49:04<00:00,  1.26s/it, loss=0.216]\n",
      "Epoch 6: 100%|██████████| 2334/2334 [49:11<00:00,  1.26s/it, loss=0.279] \n",
      "Epoch 7: 100%|██████████| 2334/2334 [49:09<00:00,  1.26s/it, loss=0.323] \n",
      "Epoch 8: 100%|██████████| 2334/2334 [49:04<00:00,  1.26s/it, loss=0.0686]\n",
      "Epoch 9: 100%|██████████| 2334/2334 [49:10<00:00,  1.26s/it, loss=0.0188]\n"
     ]
    }
   ],
   "source": [
    "from tqdm import tqdm\n",
    "\n",
    "model.train()\n",
    "for epoch in range(n_epochs):\n",
    "    loop = tqdm(train_dataloader, leave=True)\n",
    "    for batch in loop:\n",
    "        input_ids = batch.token['input_ids'].to(device)\n",
    "        attention_mask = batch.token['attention_mask'].to(device)\n",
    "        label = batch.label.to(device)\n",
    "        outputs = model(labels=label,input_ids=input_ids,attention_mask=attention_mask)\n",
    "        \n",
    "        loss = outputs.loss\n",
    "        loss.backward()\n",
    "        \n",
    "        optimizer.step()\n",
    "        lr_scheduler.step()\n",
    "        optimizer.zero_grad()\n",
    "\n",
    "        loop.set_description(f'Epoch {epoch}')\n",
    "        loop.set_postfix(loss=loss.item())\n",
    "        torch.cuda.empty_cache()\n"
   ]
  },
  {
   "cell_type": "code",
   "execution_count": 8,
   "metadata": {},
   "outputs": [],
   "source": [
    "model.save_pretrained(\"channel-classifier-man\")"
   ]
  },
  {
   "cell_type": "code",
   "execution_count": null,
   "metadata": {},
   "outputs": [],
   "source": [
    "from tqdm import tqdm\n",
    "model.eval()\n",
    "torch.cuda.empty_cache()\n",
    "eval_loop = tqdm(train_dataloader, leave=True)\n",
    "loss_list = []\n",
    "for batch in eval_loop:\n",
    "    input_ids = batch.token['input_ids'].to(device)\n",
    "    attention_mask = batch.token['attention_mask'].to(device)\n",
    "    label = batch.label.to(device)\n",
    "    outputs = model(labels=label,input_ids=input_ids,attention_mask=attention_mask)\n",
    "    \n",
    "    loss = outputs.loss\n",
    "    loss_list.append(float(loss))\n",
    "\n",
    "    eval_loop.set_postfix(loss=loss.item())\n",
    "    torch.cuda.empty_cache()\n",
    "loss_list"
   ]
  }
 ],
 "metadata": {
  "interpreter": {
   "hash": "d607a3b8ecc050e73ae5a24a81ba0fefbd48bfd20415b0ce69a17a192c71bf1f"
  },
  "kernelspec": {
   "display_name": "Python 3.7.13 ('pytorch')",
   "language": "python",
   "name": "python3"
  },
  "language_info": {
   "codemirror_mode": {
    "name": "ipython",
    "version": 3
   },
   "file_extension": ".py",
   "mimetype": "text/x-python",
   "name": "python",
   "nbconvert_exporter": "python",
   "pygments_lexer": "ipython3",
   "version": "3.7.13"
  },
  "orig_nbformat": 4
 },
 "nbformat": 4,
 "nbformat_minor": 2
}
