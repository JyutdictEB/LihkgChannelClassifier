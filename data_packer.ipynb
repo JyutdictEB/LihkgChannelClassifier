{
 "cells": [
  {
   "cell_type": "code",
   "execution_count": 1,
   "metadata": {},
   "outputs": [
    {
     "name": "stdout",
     "output_type": "stream",
     "text": [
      "{'電訊台': 3784, '動漫台': 7001, '吹水台': 7001, '時事台': 7001, '財經台': 7001, '娛樂台': 7001, '體育台': 7001, '遊戲台': 7001, '汽車台': 7001, '校園台': 7001, '感情台': 7001, 'World': 3438, '創意台': 7001, '影視台': 7001, '音樂台': 7001, '學術台': 7001, '上班台': 7001, '手機台': 7001, '寵物台': 3960, '飲食台': 7001, '玩具台': 1527, '健康台': 7001, '政事台': 7001, '房屋台': 7001, '站務台': 3979, '攝影台': 1923, '潮流台': 4164, '硬件台': 7001, '活動台': 1988, '旅遊台': 3253, 'Apps台': 4032, '軟件台': 3226, '直播台': 1848, '講故台': 2526}\n"
     ]
    }
   ],
   "source": [
    "import label_loader\n",
    "labels = label_loader.load_label_index('labels.tsv')\n",
    "things = label_loader.pack_data_with_n(labels,open('out_with_labels_ori.tsv',encoding='utf-8').readlines(),7000)"
   ]
  },
  {
   "cell_type": "code",
   "execution_count": null,
   "metadata": {},
   "outputs": [],
   "source": [
    "from tqdm import tqdm\n"
   ]
  },
  {
   "cell_type": "code",
   "execution_count": 2,
   "metadata": {},
   "outputs": [],
   "source": [
    "with open('out_with_labels.tsv',mode='w',encoding='utf-8') as f:\n",
    "  f.writelines(things)"
   ]
  }
 ],
 "metadata": {
  "interpreter": {
   "hash": "d607a3b8ecc050e73ae5a24a81ba0fefbd48bfd20415b0ce69a17a192c71bf1f"
  },
  "kernelspec": {
   "display_name": "Python 3.7.13 ('pytorch')",
   "language": "python",
   "name": "python3"
  },
  "language_info": {
   "codemirror_mode": {
    "name": "ipython",
    "version": 3
   },
   "file_extension": ".py",
   "mimetype": "text/x-python",
   "name": "python",
   "nbconvert_exporter": "python",
   "pygments_lexer": "ipython3",
   "version": "3.7.13"
  },
  "orig_nbformat": 4
 },
 "nbformat": 4,
 "nbformat_minor": 2
}
